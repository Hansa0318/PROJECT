{
 "cells": [
  {
   "cell_type": "code",
   "execution_count": null,
   "id": "bd1099f4",
   "metadata": {},
   "outputs": [],
   "source": [
    "import pandas as pd\n",
    "import numpy as np\n",
    "file_path = r\"C:\\Users\\hansa\\OneDrive\\Desktop\\internship\\top_insta_influencers_data.xlsx\"\n",
    "df = pd.read_excel(file_path)\n",
    "print(df.head())\n",
    "print(\"Shape of dataset:\", df.shape)\n",
    "print(\"\\nData Info:\")\n",
    "print(df.info())\n",
    "print(\"\\nMissing values:\")\n",
    "print(df.isnull().sum())\n",
    "print(\"\\nSummary Statistics:\")\n",
    "print(df.describe(include='all'))"
   ]
  },
  {
   "cell_type": "code",
   "execution_count": null,
   "id": "c33ceb3e",
   "metadata": {},
   "outputs": [],
   "source": [
    "print(\"Shape before dropping duplicates:\", df.shape)\n",
    "df = df.drop_duplicates()\n",
    "print(\"Shape after dropping duplicates:\", df.shape)"
   ]
  },
  {
   "cell_type": "code",
   "execution_count": null,
   "id": "43f45938",
   "metadata": {},
   "outputs": [],
   "source": [
    "cat_cols = df.select_dtypes(include='object').columns.tolist()\n",
    "num_cols = df.select_dtypes(include=['int64', 'float64']).columns.tolist()\n",
    "df[num_cols] = df[num_cols].fillna(df[num_cols].median())\n",
    "for col in cat_cols:\n",
    "     if df[col].isnull().sum() > 0:\n",
    "           df[col] = df[col].fillna(df[col].mode()[0])"
   ]
  },
  {
   "cell_type": "code",
   "execution_count": null,
   "id": "6b95d98a",
   "metadata": {
    "lines_to_next_cell": 1
   },
   "outputs": [],
   "source": [
    "print(\"\\nMissing values after handling:\")\n",
    "print(df.isnull().sum())"
   ]
  },
  {
   "cell_type": "code",
   "execution_count": null,
   "id": "e1cdf322",
   "metadata": {
    "lines_to_next_cell": 1
   },
   "outputs": [],
   "source": [
    "def convert_to_number(value):\n",
    "       if isinstance(value, str):\n",
    "             value = value.lower().replace(',', '').strip()\n",
    "             if value.endswith('k'):\n",
    "                   return float(value[:-1]) * 1e3\n",
    "             elif value.endswith('m'):\n",
    "                   return float(value[:-1]) * 1e6\n",
    "             elif value.endswith('b'):\n",
    "                   return float(value[:-1]) * 1e9\n",
    "             else:\n",
    "                   try:\n",
    "                           return float(value)\n",
    "                   except:\n",
    "                          return np.nan\n",
    "       return value             "
   ]
  },
  {
   "cell_type": "code",
   "execution_count": null,
   "id": "8814b8d8",
   "metadata": {},
   "outputs": [],
   "source": [
    "columns_to_convert = ['posts', 'followers', 'avg_likes', 'new_post_avg_like', 'total_likes']\n",
    "for col in columns_to_convert:\n",
    "       df[col] = df[col].apply(convert_to_number)\n",
    "print(\"\\nData types after conversion:\")\n",
    "print(df[columns_to_convert].dtypes)"
   ]
  },
  {
   "cell_type": "code",
   "execution_count": null,
   "id": "3fb43384",
   "metadata": {},
   "outputs": [],
   "source": [
    "print(\"\\nSample converted values:\")\n",
    "print(df[columns_to_convert].head())"
   ]
  },
  {
   "cell_type": "code",
   "execution_count": null,
   "id": "00ef3e1a",
   "metadata": {},
   "outputs": [],
   "source": [
    "cleaned_path = r\"C:\\Users\\hansa\\OneDrive\\Desktop\\internship\\top_insta_influencers_cleaned.csv\"\n",
    "df.to_csv(cleaned_path, index=False)\n",
    "print(f\"\\n✅ Cleaned dataset saved successfully at:\\n{cleaned_path}\")"
   ]
  },
  {
   "cell_type": "code",
   "execution_count": null,
   "id": "77c29193",
   "metadata": {},
   "outputs": [],
   "source": [
    "import pandas as pd\n",
    "file_path = r\"C:\\Users\\hansa\\OneDrive\\Desktop\\internship\\top_insta_influencers_cleaned.csv\"\n",
    "df = pd.read_csv(file_path)\n",
    "import matplotlib.pyplot as plt\n",
    "import seaborn as sns"
   ]
  },
  {
   "cell_type": "code",
   "execution_count": null,
   "id": "f0ee3140",
   "metadata": {},
   "outputs": [],
   "source": [
    "sns.set(style='whitegrid')"
   ]
  },
  {
   "cell_type": "code",
   "execution_count": null,
   "id": "8efd68cd",
   "metadata": {},
   "outputs": [],
   "source": [
    "print(\"\\nSummary Statistics:\")\n",
    "print(df.describe())"
   ]
  },
  {
   "cell_type": "code",
   "execution_count": null,
   "id": "e191d8ed",
   "metadata": {},
   "outputs": [],
   "source": [
    "plt.figure(figsize=(10,6))\n",
    "sns.scatterplot(data=df, x='followers', y='60_day_eng_rate')\n",
    "plt.title(\"Followers vs. 60-Day Engagement Rate\")\n",
    "plt.xlabel(\"Followers\")\n",
    "plt.ylabel(\"60-Day Engagement Rate\")\n",
    "plt.tight_layout()\n",
    "plt.show()"
   ]
  },
  {
   "cell_type": "code",
   "execution_count": null,
   "id": "0f1172a5",
   "metadata": {},
   "outputs": [],
   "source": [
    "plt.figure(figsize=(8,5))\n",
    "sns.histplot(df['influence_score'], bins=20, kde=True, color='skyblue')\n",
    "plt.title(\"Distribution of Influence Score\")\n",
    "plt.xlabel(\"Influence Score\")\n",
    "plt.ylabel(\"Frequency\")\n",
    "plt.tight_layout()\n",
    "plt.show()"
   ]
  },
  {
   "cell_type": "code",
   "execution_count": null,
   "id": "00fb66ab",
   "metadata": {},
   "outputs": [],
   "source": [
    "plt.figure(figsize=(12,6))\n",
    "top_countries = df['country'].value_counts().head(10)\n",
    "sns.barplot(x=top_countries.values, y=top_countries.index, palette='viridis')\n",
    "plt.title(\"Top 10 Most Active Countries (Influencers)\")\n",
    "plt.xlabel(\"Number of Influencers\")\n",
    "plt.ylabel(\"Country\")\n",
    "plt.tight_layout()\n",
    "plt.show()"
   ]
  },
  {
   "cell_type": "code",
   "execution_count": null,
   "id": "d79893fe",
   "metadata": {},
   "outputs": [],
   "source": [
    "df['like_follower_ratio'] = df['total_likes'] / df['followers']\n",
    "df['post_follower_ratio'] = df['posts'] / df['followers']\n",
    "df['avg_likes_ratio'] = df['avg_likes'] / df['followers']\n",
    "print(\"\\nNewly Created Features (first 5 rows):\")\n",
    "print(df[['like_follower_ratio', 'post_follower_ratio', 'avg_likes_ratio']].head())"
   ]
  },
  {
   "cell_type": "code",
   "execution_count": null,
   "id": "b35cbe47",
   "metadata": {},
   "outputs": [],
   "source": [
    "if __name__ == \"__main__\":\n",
    "     import pandas as pd\n",
    "     import matplotlib.pyplot as plt\n",
    "     import seaborn as sns\n",
    "     from sklearn.model_selection import train_test_split\n",
    "     from sklearn.linear_model import LinearRegression\n",
    "     from sklearn.metrics import mean_squared_error, r2_score\n",
    "     df = pd.read_csv(r\"C:\\Users\\hansa\\OneDrive\\Desktop\\internship\\top_insta_influencers_cleaned.csv\")\n",
    "     df['60_day_eng_rate'] = df['60_day_eng_rate'].astype(float)\n",
    "\n",
    "     X = df.drop(['influence_score', 'rank', 'channel_info'], axis=1)\n",
    "     X = pd.get_dummies(X, columns=['country'], drop_first=True)\n",
    "     y = df['influence_score']\n",
    "     X_train, X_test, y_train, y_test = train_test_split(X, y, test_size=0.2, random_state=42)\n",
    "\n",
    "     model = LinearRegression()\n",
    "     model.fit(X_train, y_train)\n",
    "\n",
    "     y_pred = model.predict(X_test)"
   ]
  },
  {
   "cell_type": "code",
   "execution_count": null,
   "id": "acdbcfa1",
   "metadata": {},
   "outputs": [],
   "source": [
    "print(\"R² Score:\", r2_score(y_test, y_pred))\n",
    "print(\"RMSE:\", mean_squared_error(y_test, y_pred, squared=False))"
   ]
  }
 ],
 "metadata": {
  "jupytext": {
   "cell_metadata_filter": "-all",
   "main_language": "python",
   "notebook_metadata_filter": "-all"
  }
 },
 "nbformat": 4,
 "nbformat_minor": 5
}
